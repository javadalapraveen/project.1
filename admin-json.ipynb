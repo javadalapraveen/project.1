{
 "cells": [
  {
   "cell_type": "code",
   "execution_count": 1,
   "metadata": {},
   "outputs": [],
   "source": [
    "import json\n",
    "\n",
    "admin={\n",
    "    \"admin\":{\n",
    "        \"name\":\"praveen\",\n",
    "        \"contact\":\"9133009757\",\n",
    "        \"email\":\"praveenjavadala2000@gmail.com\",\n",
    "        \"password\":\"Darwin@12345\"\n",
    "    }\n",
    "}\n",
    "\n",
    "with open (\"admin_list.json\",\"w\") as file:\n",
    "    json.dump(admin,file)\n",
    "\n",
    "file.close()"
   ]
  }
 ],
 "metadata": {
  "kernelspec": {
   "display_name": "Python 3",
   "language": "python",
   "name": "python3"
  },
  "language_info": {
   "codemirror_mode": {
    "name": "ipython",
    "version": 3
   },
   "file_extension": ".py",
   "mimetype": "text/x-python",
   "name": "python",
   "nbconvert_exporter": "python",
   "pygments_lexer": "ipython3",
   "version": "3.11.4"
  },
  "orig_nbformat": 4
 },
 "nbformat": 4,
 "nbformat_minor": 2
}
